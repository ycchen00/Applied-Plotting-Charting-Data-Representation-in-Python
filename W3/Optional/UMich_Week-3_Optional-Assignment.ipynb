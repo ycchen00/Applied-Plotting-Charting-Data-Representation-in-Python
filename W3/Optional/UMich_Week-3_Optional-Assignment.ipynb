{
 "cells": [
  {
   "cell_type": "code",
   "execution_count": 53,
   "metadata": {},
   "outputs": [],
   "source": [
    "%matplotlib widget\n",
    "\n",
    "import math\n",
    "import matplotlib.pyplot as plt\n",
    "import numpy as np\n",
    "import matplotlib.animation as animation"
   ]
  },
  {
   "cell_type": "code",
   "execution_count": 57,
   "metadata": {},
   "outputs": [],
   "source": [
    "# Set up distributions\n",
    "n = 100\n",
    "normal = np.random.normal(0, 3, n)\n",
    "gamma = np.random.gamma(2, 1.5, size=n)\n",
    "exponential = np.random.exponential(3, size=n)\n",
    "uniform = np.random.uniform(-4, 4, size=n)\n",
    "\n",
    "dists = [normal, gamma, exponential, uniform]\n",
    "distname = ['Normal', 'Gamma', 'Exponential', 'Uniform']\n",
    "colors = ['Blue', 'Orange', 'Green', 'Red']"
   ]
  },
  {
   "cell_type": "code",
   "execution_count": 58,
   "metadata": {},
   "outputs": [],
   "source": [
    "# Ddfine the update function\n",
    "def update(curr):\n",
    "    if curr == n:\n",
    "        a.event_source.stop()\n",
    "    plt.suptitle('Distributions with Sample Size n={}'.format(curr))\n",
    "    # Tight layout ensures titles don't overlap\n",
    "    plt.tight_layout(rect=[0, 0.03, 1, 0.95])\n",
    "    for i, d in enumerate(dists):\n",
    "        axs[i].clear()\n",
    "        axs[i].hist(d[:curr], bins=13, color=colors[i], alpha=0.5)\n",
    "        # Set up axis limits dynamically using min and max for each distribution\n",
    "        axs[i].axis([math.floor(min(d)), math.ceil(max(d)), 0, 30])\n",
    "        axs[i].set_title(distname[i])"
   ]
  },
  {
   "cell_type": "code",
   "execution_count": 59,
   "metadata": {},
   "outputs": [
    {
     "data": {
      "application/vnd.jupyter.widget-view+json": {
       "model_id": "67828c6f9539410bafbaf3b018cdeac9",
       "version_major": 2,
       "version_minor": 0
      },
      "text/plain": [
       "Canvas(toolbar=Toolbar(toolitems=[('Home', 'Reset original view', 'home', 'home'), ('Back', 'Back to previous …"
      ]
     },
     "metadata": {},
     "output_type": "display_data"
    }
   ],
   "source": [
    "fig, ((ax1, ax2), (ax3, ax4)) = plt.subplots(2, 2)\n",
    "axs = [ax1, ax2, ax3, ax4]\n",
    "\n",
    "a = animation.FuncAnimation(fig, update, interval=1)"
   ]
  },
  {
   "cell_type": "code",
   "execution_count": null,
   "metadata": {},
   "outputs": [],
   "source": []
  }
 ],
 "metadata": {
  "kernelspec": {
   "display_name": "Python 3",
   "language": "python",
   "name": "python3"
  },
  "language_info": {
   "codemirror_mode": {
    "name": "ipython",
    "version": 3
   },
   "file_extension": ".py",
   "mimetype": "text/x-python",
   "name": "python",
   "nbconvert_exporter": "python",
   "pygments_lexer": "ipython3",
   "version": "3.6.2"
  },
  "toc": {
   "base_numbering": 1,
   "nav_menu": {},
   "number_sections": true,
   "sideBar": true,
   "skip_h1_title": false,
   "title_cell": "Table of Contents",
   "title_sidebar": "Contents",
   "toc_cell": false,
   "toc_position": {},
   "toc_section_display": true,
   "toc_window_display": false
  }
 },
 "nbformat": 4,
 "nbformat_minor": 4
}
